{
 "cells": [
  {
   "cell_type": "code",
   "execution_count": 1,
   "id": "48a4bf84",
   "metadata": {},
   "outputs": [
    {
     "name": "stdout",
     "output_type": "stream",
     "text": [
      "Requirement already satisfied: python-Levenshtein in c:\\users\\smabi\\anaconda3\\lib\\site-packages (0.25.1)\n",
      "Requirement already satisfied: Levenshtein==0.25.1 in c:\\users\\smabi\\anaconda3\\lib\\site-packages (from python-Levenshtein) (0.25.1)\n",
      "Requirement already satisfied: rapidfuzz<4.0.0,>=3.8.0 in c:\\users\\smabi\\anaconda3\\lib\\site-packages (from Levenshtein==0.25.1->python-Levenshtein) (3.9.6)\n",
      "Inception\n",
      "Iron Man\n",
      "WALL·E\n",
      "Up\n",
      "CountVectorizer(max_features=5000, stop_words='english')\n"
     ]
    }
   ],
   "source": [
    "# !pip install nbimporter\n",
    "%run Movie_Recommendation_System_Collaborative.ipynb\n",
    "%run Movies_Recomendation_System.ipynb\n",
    "import nbimporter\n",
    "from Movie_Recommendation_System_Collaborative import recommend_cf\n",
    "from Movies_Recomendation_System import recommend_cb\n"
   ]
  },
  {
   "cell_type": "code",
   "execution_count": 2,
   "id": "7ed4bb34",
   "metadata": {},
   "outputs": [],
   "source": [
    "import pandas as pd\n",
    "import numpy as np"
   ]
  },
  {
   "cell_type": "code",
   "execution_count": 3,
   "id": "90628053",
   "metadata": {},
   "outputs": [
    {
     "data": {
      "text/html": [
       "<div>\n",
       "<style scoped>\n",
       "    .dataframe tbody tr th:only-of-type {\n",
       "        vertical-align: middle;\n",
       "    }\n",
       "\n",
       "    .dataframe tbody tr th {\n",
       "        vertical-align: top;\n",
       "    }\n",
       "\n",
       "    .dataframe thead th {\n",
       "        text-align: right;\n",
       "    }\n",
       "</style>\n",
       "<table border=\"1\" class=\"dataframe\">\n",
       "  <thead>\n",
       "    <tr style=\"text-align: right;\">\n",
       "      <th></th>\n",
       "      <th>id</th>\n",
       "      <th>title</th>\n",
       "    </tr>\n",
       "  </thead>\n",
       "  <tbody>\n",
       "    <tr>\n",
       "      <th>0</th>\n",
       "      <td>19995</td>\n",
       "      <td>Avatar</td>\n",
       "    </tr>\n",
       "  </tbody>\n",
       "</table>\n",
       "</div>"
      ],
      "text/plain": [
       "      id   title\n",
       "0  19995  Avatar"
      ]
     },
     "execution_count": 3,
     "metadata": {},
     "output_type": "execute_result"
    }
   ],
   "source": [
    "movies = pd.read_csv(\"tmdb_5000_movies.csv\")\n",
    "movies = movies[['id', 'title']]\n",
    "movies.head(1)"
   ]
  },
  {
   "cell_type": "code",
   "execution_count": null,
   "id": "3ca0553d",
   "metadata": {},
   "outputs": [],
   "source": []
  },
  {
   "cell_type": "code",
   "execution_count": 4,
   "id": "a3ee2f2b",
   "metadata": {},
   "outputs": [],
   "source": [
    "def hybrid_recommendation(movie_name):\n",
    "    movie_id = movies[movies['title'] == movie_name]['id'].iloc[0]\n",
    "    content_based_score = recommend_cb(movie_name)\n",
    "    collaborative_filtering_score = recommend_cb(movie_name)\n",
    "    return alpha * content_based_score + (1 - alpha) * collaborative_filtering_score"
   ]
  },
  {
   "cell_type": "code",
   "execution_count": null,
   "id": "aad23238",
   "metadata": {},
   "outputs": [],
   "source": []
  },
  {
   "cell_type": "code",
   "execution_count": null,
   "id": "d4bd5333",
   "metadata": {},
   "outputs": [],
   "source": []
  }
 ],
 "metadata": {
  "kernelspec": {
   "display_name": "Python 3 (ipykernel)",
   "language": "python",
   "name": "python3"
  },
  "language_info": {
   "codemirror_mode": {
    "name": "ipython",
    "version": 3
   },
   "file_extension": ".py",
   "mimetype": "text/x-python",
   "name": "python",
   "nbconvert_exporter": "python",
   "pygments_lexer": "ipython3",
   "version": "3.11.3"
  }
 },
 "nbformat": 4,
 "nbformat_minor": 5
}
